{
 "cells": [
  {
   "cell_type": "code",
   "execution_count": 1,
   "metadata": {},
   "outputs": [],
   "source": [
    "import pandas as pd\n",
    "import numpy as np\n",
    "import matplotlib.pyplot as plt\n",
    "import seaborn as sns"
   ]
  },
  {
   "cell_type": "code",
   "execution_count": 7,
   "metadata": {},
   "outputs": [],
   "source": [
    "xlsx = pd.ExcelFile('AMPCapstoneProject2022-1.xlsx')"
   ]
  },
  {
   "attachments": {},
   "cell_type": "markdown",
   "metadata": {},
   "source": []
  },
  {
   "cell_type": "code",
   "execution_count": 8,
   "metadata": {},
   "outputs": [],
   "source": [
    "dfb = pd.read_excel(xlsx, 'Buildings')\n",
    "df1 = pd.read_excel(xlsx, 'Date Range 1')\n",
    "df2 = pd.read_excel(xlsx, 'Date Range 2')\n",
    "df3 = pd.read_excel(xlsx, 'Date Range 3')"
   ]
  },
  {
   "cell_type": "code",
   "execution_count": 10,
   "metadata": {},
   "outputs": [
    {
     "data": {
      "text/html": [
       "<div>\n",
       "<style scoped>\n",
       "    .dataframe tbody tr th:only-of-type {\n",
       "        vertical-align: middle;\n",
       "    }\n",
       "\n",
       "    .dataframe tbody tr th {\n",
       "        vertical-align: top;\n",
       "    }\n",
       "\n",
       "    .dataframe thead th {\n",
       "        text-align: right;\n",
       "    }\n",
       "</style>\n",
       "<table border=\"1\" class=\"dataframe\">\n",
       "  <thead>\n",
       "    <tr style=\"text-align: right;\">\n",
       "      <th></th>\n",
       "      <th>BLDG</th>\n",
       "      <th>Name</th>\n",
       "      <th>GSF</th>\n",
       "      <th>Year_Built</th>\n",
       "      <th>Primary_Use</th>\n",
       "    </tr>\n",
       "  </thead>\n",
       "  <tbody>\n",
       "    <tr>\n",
       "      <th>0</th>\n",
       "      <td>202</td>\n",
       "      <td>OLSSON HALL</td>\n",
       "      <td>73882</td>\n",
       "      <td>1960</td>\n",
       "      <td>Office</td>\n",
       "    </tr>\n",
       "    <tr>\n",
       "      <th>1</th>\n",
       "      <td>203</td>\n",
       "      <td>ALBERT H SMALL BUILDING</td>\n",
       "      <td>10526</td>\n",
       "      <td>1948</td>\n",
       "      <td>Office</td>\n",
       "    </tr>\n",
       "    <tr>\n",
       "      <th>2</th>\n",
       "      <td>204</td>\n",
       "      <td>THORNTON HALL</td>\n",
       "      <td>166953</td>\n",
       "      <td>1936</td>\n",
       "      <td>Office</td>\n",
       "    </tr>\n",
       "    <tr>\n",
       "      <th>3</th>\n",
       "      <td>214</td>\n",
       "      <td>RICE HALL</td>\n",
       "      <td>104604</td>\n",
       "      <td>2011</td>\n",
       "      <td>Research</td>\n",
       "    </tr>\n",
       "    <tr>\n",
       "      <th>4</th>\n",
       "      <td>222</td>\n",
       "      <td>CHEMICAL ENGINEERING RESEARCH</td>\n",
       "      <td>28878</td>\n",
       "      <td>1992</td>\n",
       "      <td>Research</td>\n",
       "    </tr>\n",
       "    <tr>\n",
       "      <th>5</th>\n",
       "      <td>259</td>\n",
       "      <td>MECHANICAL ENGINEERING</td>\n",
       "      <td>71088</td>\n",
       "      <td>1971</td>\n",
       "      <td>Classroom</td>\n",
       "    </tr>\n",
       "    <tr>\n",
       "      <th>6</th>\n",
       "      <td>267</td>\n",
       "      <td>WILSDORF HALL</td>\n",
       "      <td>97838</td>\n",
       "      <td>2006</td>\n",
       "      <td>Research</td>\n",
       "    </tr>\n",
       "    <tr>\n",
       "      <th>7</th>\n",
       "      <td>270</td>\n",
       "      <td>JESSER HALL</td>\n",
       "      <td>35179</td>\n",
       "      <td>1985</td>\n",
       "      <td>Research</td>\n",
       "    </tr>\n",
       "  </tbody>\n",
       "</table>\n",
       "</div>"
      ],
      "text/plain": [
       "   BLDG                           Name     GSF  Year_Built Primary_Use\n",
       "0   202                    OLSSON HALL   73882        1960      Office\n",
       "1   203        ALBERT H SMALL BUILDING   10526        1948      Office\n",
       "2   204                  THORNTON HALL  166953        1936      Office\n",
       "3   214                      RICE HALL  104604        2011    Research\n",
       "4   222  CHEMICAL ENGINEERING RESEARCH   28878        1992    Research\n",
       "5   259         MECHANICAL ENGINEERING   71088        1971   Classroom\n",
       "6   267                  WILSDORF HALL   97838        2006    Research\n",
       "7   270                    JESSER HALL   35179        1985    Research"
      ]
     },
     "execution_count": 10,
     "metadata": {},
     "output_type": "execute_result"
    }
   ],
   "source": [
    "# Buildings\n",
    "dfb"
   ]
  },
  {
   "cell_type": "code",
   "execution_count": 15,
   "metadata": {},
   "outputs": [],
   "source": [
    "#combine the 3 date range tables together\n",
    "df = pd.concat([df1, df2, df3])"
   ]
  },
  {
   "cell_type": "code",
   "execution_count": 16,
   "metadata": {},
   "outputs": [
    {
     "data": {
      "text/plain": [
       "(836088, 10)"
      ]
     },
     "execution_count": 16,
     "metadata": {},
     "output_type": "execute_result"
    }
   ],
   "source": [
    "df.shape"
   ]
  },
  {
   "cell_type": "code",
   "execution_count": 22,
   "metadata": {},
   "outputs": [
    {
     "name": "stdout",
     "output_type": "stream",
     "text": [
      "<class 'pandas.core.frame.DataFrame'>\n",
      "Int64Index: 836088 entries, 0 to 280255\n",
      "Data columns (total 10 columns):\n",
      " #   Column        Non-Null Count   Dtype         \n",
      "---  ------        --------------   -----         \n",
      " 0   Timestamp     836088 non-null  datetime64[ns]\n",
      " 1   BLDG          836088 non-null  int64         \n",
      " 2   Name          836088 non-null  object        \n",
      " 3   Point         836088 non-null  object        \n",
      " 4   Min Value     836088 non-null  float64       \n",
      " 5   Max Value     836088 non-null  float64       \n",
      " 6   Avg Value     836088 non-null  float64       \n",
      " 7   Last Value    836088 non-null  float64       \n",
      " 8   Total         836088 non-null  float64       \n",
      " 9   Sample Count  836088 non-null  int64         \n",
      "dtypes: datetime64[ns](1), float64(5), int64(2), object(2)\n",
      "memory usage: 70.2+ MB\n"
     ]
    }
   ],
   "source": [
    "df.info()"
   ]
  },
  {
   "cell_type": "code",
   "execution_count": 20,
   "metadata": {},
   "outputs": [
    {
     "data": {
      "text/html": [
       "<div>\n",
       "<style scoped>\n",
       "    .dataframe tbody tr th:only-of-type {\n",
       "        vertical-align: middle;\n",
       "    }\n",
       "\n",
       "    .dataframe tbody tr th {\n",
       "        vertical-align: top;\n",
       "    }\n",
       "\n",
       "    .dataframe thead th {\n",
       "        text-align: right;\n",
       "    }\n",
       "</style>\n",
       "<table border=\"1\" class=\"dataframe\">\n",
       "  <thead>\n",
       "    <tr style=\"text-align: right;\">\n",
       "      <th></th>\n",
       "      <th>BLDG</th>\n",
       "      <th>Min Value</th>\n",
       "      <th>Max Value</th>\n",
       "      <th>Avg Value</th>\n",
       "      <th>Last Value</th>\n",
       "      <th>Total</th>\n",
       "      <th>Sample Count</th>\n",
       "    </tr>\n",
       "  </thead>\n",
       "  <tbody>\n",
       "    <tr>\n",
       "      <th>count</th>\n",
       "      <td>836088.000000</td>\n",
       "      <td>836088.000000</td>\n",
       "      <td>836088.000000</td>\n",
       "      <td>836088.000000</td>\n",
       "      <td>836088.000000</td>\n",
       "      <td>836088.000000</td>\n",
       "      <td>836088.000000</td>\n",
       "    </tr>\n",
       "    <tr>\n",
       "      <th>mean</th>\n",
       "      <td>230.117198</td>\n",
       "      <td>319.818161</td>\n",
       "      <td>418.755976</td>\n",
       "      <td>365.036196</td>\n",
       "      <td>364.833554</td>\n",
       "      <td>4377.966308</td>\n",
       "      <td>11.991080</td>\n",
       "    </tr>\n",
       "    <tr>\n",
       "      <th>std</th>\n",
       "      <td>28.104045</td>\n",
       "      <td>587.176422</td>\n",
       "      <td>720.642873</td>\n",
       "      <td>644.078710</td>\n",
       "      <td>648.911129</td>\n",
       "      <td>7726.829619</td>\n",
       "      <td>0.236194</td>\n",
       "    </tr>\n",
       "    <tr>\n",
       "      <th>min</th>\n",
       "      <td>202.000000</td>\n",
       "      <td>-5307.460000</td>\n",
       "      <td>-1314.599000</td>\n",
       "      <td>-1339.526000</td>\n",
       "      <td>-1348.710000</td>\n",
       "      <td>-16074.320000</td>\n",
       "      <td>1.000000</td>\n",
       "    </tr>\n",
       "    <tr>\n",
       "      <th>25%</th>\n",
       "      <td>204.000000</td>\n",
       "      <td>0.000000</td>\n",
       "      <td>0.000000</td>\n",
       "      <td>0.000000</td>\n",
       "      <td>0.000000</td>\n",
       "      <td>0.000000</td>\n",
       "      <td>12.000000</td>\n",
       "    </tr>\n",
       "    <tr>\n",
       "      <th>50%</th>\n",
       "      <td>214.000000</td>\n",
       "      <td>92.900645</td>\n",
       "      <td>138.784350</td>\n",
       "      <td>118.112200</td>\n",
       "      <td>116.522100</td>\n",
       "      <td>1416.039000</td>\n",
       "      <td>12.000000</td>\n",
       "    </tr>\n",
       "    <tr>\n",
       "      <th>75%</th>\n",
       "      <td>259.000000</td>\n",
       "      <td>423.000000</td>\n",
       "      <td>522.000000</td>\n",
       "      <td>465.570350</td>\n",
       "      <td>464.000000</td>\n",
       "      <td>5584.000000</td>\n",
       "      <td>12.000000</td>\n",
       "    </tr>\n",
       "    <tr>\n",
       "      <th>max</th>\n",
       "      <td>270.000000</td>\n",
       "      <td>7366.501000</td>\n",
       "      <td>9520.000000</td>\n",
       "      <td>7907.650000</td>\n",
       "      <td>7928.255000</td>\n",
       "      <td>94891.800000</td>\n",
       "      <td>12.000000</td>\n",
       "    </tr>\n",
       "  </tbody>\n",
       "</table>\n",
       "</div>"
      ],
      "text/plain": [
       "                BLDG      Min Value      Max Value      Avg Value  \\\n",
       "count  836088.000000  836088.000000  836088.000000  836088.000000   \n",
       "mean      230.117198     319.818161     418.755976     365.036196   \n",
       "std        28.104045     587.176422     720.642873     644.078710   \n",
       "min       202.000000   -5307.460000   -1314.599000   -1339.526000   \n",
       "25%       204.000000       0.000000       0.000000       0.000000   \n",
       "50%       214.000000      92.900645     138.784350     118.112200   \n",
       "75%       259.000000     423.000000     522.000000     465.570350   \n",
       "max       270.000000    7366.501000    9520.000000    7907.650000   \n",
       "\n",
       "          Last Value          Total   Sample Count  \n",
       "count  836088.000000  836088.000000  836088.000000  \n",
       "mean      364.833554    4377.966308      11.991080  \n",
       "std       648.911129    7726.829619       0.236194  \n",
       "min     -1348.710000  -16074.320000       1.000000  \n",
       "25%         0.000000       0.000000      12.000000  \n",
       "50%       116.522100    1416.039000      12.000000  \n",
       "75%       464.000000    5584.000000      12.000000  \n",
       "max      7928.255000   94891.800000      12.000000  "
      ]
     },
     "execution_count": 20,
     "metadata": {},
     "output_type": "execute_result"
    }
   ],
   "source": [
    "df.describe()"
   ]
  },
  {
   "cell_type": "code",
   "execution_count": null,
   "metadata": {},
   "outputs": [],
   "source": [
    "# clean up"
   ]
  }
 ],
 "metadata": {
  "kernelspec": {
   "display_name": "Python 3",
   "language": "python",
   "name": "python3"
  },
  "language_info": {
   "codemirror_mode": {
    "name": "ipython",
    "version": 3
   },
   "file_extension": ".py",
   "mimetype": "text/x-python",
   "name": "python",
   "nbconvert_exporter": "python",
   "pygments_lexer": "ipython3",
   "version": "3.8.5"
  }
 },
 "nbformat": 4,
 "nbformat_minor": 4
}
